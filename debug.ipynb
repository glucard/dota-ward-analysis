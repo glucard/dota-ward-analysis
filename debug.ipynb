{
 "cells": [
  {
   "cell_type": "code",
   "execution_count": null,
   "metadata": {},
   "outputs": [],
   "source": [
    "import os\n",
    "from dotenv import load_dotenv\n",
    "import pandas as pd\n",
    "\n",
    "from src.datasetgenerator import StratzQuery, DatasetGenerator"
   ]
  },
  {
   "cell_type": "code",
   "execution_count": null,
   "metadata": {},
   "outputs": [],
   "source": [
    "load_dotenv()\n",
    "#querier = StratzQuery(os.getenv('STRATZ_TOKEN'))\n",
    "#querier.get_match(7590822094)\n",
    "\n",
    "csv_path = os.getenv('CSV_PATH')\n",
    "\n",
    "generator = DatasetGenerator(os.getenv('STRATZ_TOKEN'), csv_path)"
   ]
  },
  {
   "cell_type": "code",
   "execution_count": null,
   "metadata": {},
   "outputs": [],
   "source": [
    "\n",
    "league = generator.get_professional_league(16842)\n",
    "matches = league['matches']\n",
    "len(matches)"
   ]
  },
  {
   "cell_type": "code",
   "execution_count": null,
   "metadata": {},
   "outputs": [],
   "source": [
    "matches[0].keys()"
   ]
  },
  {
   "cell_type": "code",
   "execution_count": null,
   "metadata": {},
   "outputs": [],
   "source": [
    "matches[0]['playbackData']['wardEvents']"
   ]
  },
  {
   "cell_type": "code",
   "execution_count": null,
   "metadata": {},
   "outputs": [],
   "source": [
    "def get_deaths_through_ward(match:dict):\n",
    "    deaths_through_ward = {\n",
    "        'time': [],\n",
    "        'isPlayerRadiant': [],\n",
    "        'positionX': [],\n",
    "        'positionY': [],\n",
    "    }\n",
    "    for player in match[\"players\"]:\n",
    "        isPlayerRadiant = player['isRadiant']\n",
    "        deaths_events = player['playbackData']['deathEvents']\n",
    "        for d_e in deaths_events:\n",
    "            if not d_e['isWardWalkThrough']:\n",
    "                continue\n",
    "            deaths_through_ward['time'].append(d_e['time'])\n",
    "            deaths_through_ward['isPlayerRadiant'].append(isPlayerRadiant)\n",
    "            deaths_through_ward['positionX'].append(d_e['positionX'])\n",
    "            deaths_through_ward['positionY'].append(d_e['positionY'])\n",
    "    \n",
    "    df_deaths = pd.DataFrame.from_dict(deaths_through_ward)\n",
    "    return df_deaths\n",
    "\n",
    "get_deaths_through_ward(matches[0])"
   ]
  },
  {
   "cell_type": "code",
   "execution_count": null,
   "metadata": {},
   "outputs": [],
   "source": [
    "from collections import defaultdict\n",
    "\n",
    "def get_match_wards(match:dict) -> dict:\n",
    "    player_team_by_slot = {player['playerSlot']: player['isRadiant'] for player in match['players']}\n",
    "    match_id = match['id']\n",
    "    ward_events = match['playbackData']['wardEvents']\n",
    "    wards = defaultdict(lambda: {})\n",
    "    for w_e in ward_events:\n",
    "        if w_e[\"action\"] == \"SPAWN\":\n",
    "            wards[w_e['indexId']] = {\n",
    "                \"id\": f\"{match_id}_{w_e['indexId']}\",\n",
    "                \"match\": match_id,\n",
    "                \"spawned_time\": w_e[\"time\"],\n",
    "                \"despawned_time\": None,\n",
    "                \"positionX\": w_e[\"positionX\"],\n",
    "                \"positionY\": w_e[\"positionY\"],\n",
    "                \"wardType\": w_e[\"wardType\"],\n",
    "                \"isRadiant\": player_team_by_slot[w_e[\"fromPlayer\"]],\n",
    "                \"playerDestroyed\": w_e[\"playerDestroyed\"],\n",
    "            }\n",
    "            continue\n",
    "        wards[w_e['indexId']][\"despawned_time\"] = w_e['time']\n",
    "    \n",
    "\n",
    "    # get kills around\n",
    "    \n",
    "    return dict(wards)\n",
    "\n",
    "wards = get_match_wards(matches[0])\n",
    "wards.keys(), len(wards.keys())"
   ]
  },
  {
   "cell_type": "code",
   "execution_count": null,
   "metadata": {},
   "outputs": [],
   "source": [
    "from collections import defaultdict\n",
    "\n",
    "def map_death_count(df_wards, df_deaths):\n",
    "    death_time = df_deaths['time'].item()\n",
    "    return (df_wards['spawned_time'] < death_time) & (death_time > df_wards['despawned_time'])\n",
    "\n",
    "def get_df_match_wards(match:dict) -> dict:\n",
    "    if not match['playbackData']:\n",
    "        print(f\"warning: no playbackData found for match {match['id']}\")\n",
    "        return\n",
    "    wards = get_match_wards(match)\n",
    "    df_wards = defaultdict(lambda: [])\n",
    "    for id, w in wards.items():\n",
    "        for key, item in w.items():\n",
    "            df_wards[key].append(item)\n",
    "    df_wards = pd.DataFrame.from_dict(df_wards).set_index(\"id\")\n",
    "\n",
    "    none_despawned_mask = df_wards['despawned_time'].isna()\n",
    "    df_wards.loc[none_despawned_mask, 'despawned_time'] = match['durationSeconds']\n",
    "\n",
    "    df_deaths = get_deaths_through_ward(match)\n",
    "    \n",
    "    df_wards['possible_enemies_death'] = 0\n",
    "    return map_death_count(df_wards, df_deaths)\n",
    "\n",
    "    \n",
    "    df_wards['possible_enemies_death'] = 0\n",
    "\n",
    "\n",
    "    df_wards['spawned_time'] = df_wards['spawned_time'] // 60\n",
    "    df_wards['despawned_time'] = df_wards['despawned_time'] // 60\n",
    "    \n",
    "    df_wards['radiantTeam'] = match['radiantTeam']['name']\n",
    "    df_wards['direTeam'] = match['direTeam']['name']\n",
    "\n",
    "\n",
    "    return df_wards\n",
    "\n",
    "def get_league_df_wards(league_id):\n",
    "    league = generator.get_professional_league(league_id)\n",
    "    matches = league['matches']\n",
    "    ward_matches_df = [get_df_match_wards(match) for match in matches]\n",
    "    df_wards = pd.concat(ward_matches_df)\n",
    "    df_wards['league'] = league_id\n",
    "    df_wards['region'] = league['region']\n",
    "    return df_wards\n",
    "\n",
    "# df_wards = get_league_df_wards(16842)\n",
    "# df_wards.isna().any()\n",
    "\n",
    "get_df_match_wards(matches[0])"
   ]
  },
  {
   "cell_type": "code",
   "execution_count": null,
   "metadata": {},
   "outputs": [],
   "source": [
    "df_wards[['positionX', 'positionY']].describe()"
   ]
  },
  {
   "cell_type": "code",
   "execution_count": null,
   "metadata": {},
   "outputs": [],
   "source": [
    "import matplotlib.image as mpimg\n",
    "import matplotlib.pyplot as plt\n",
    "from PIL import Image\n",
    "import numpy as np\n",
    "\n",
    "# bg_img = np.array(Image.open('assets\\Game_map_7.33.webp').resize((500,500)))\n",
    "# # bg_img = mpimg.imread('assets\\Game_map_7.33.webp')\n",
    "# print(type(bg_img), bg_img.shape)\n",
    "# for name, group in df_wards.groupby('match'):\n",
    "\n",
    "#     print(f\"\\n{group['match'].unique()} - {group['radiantTeam'].unique()} x {group['direTeam'].unique()}\")\n",
    "#     fig, ax = plt.subplots(figsize=(5, 5), dpi=100)\n",
    "#     ax.imshow(bg_img, extent=[55, 200, 55, 200])  # Adjust extent to match your data range\n",
    "#     ax.scatter(group['positionX'], group['positionY'], label=f'Match {name}', color=group['wardType'].map(lambda x: \"yellow\" if x == \"OBSERVER\" else \"blue\"))\n",
    "\n",
    "#     # Show plot\n",
    "#     plt.show()\n"
   ]
  },
  {
   "cell_type": "code",
   "execution_count": null,
   "metadata": {},
   "outputs": [],
   "source": [
    "def get_t_mask(df_wards, t):\n",
    "    df_wards_mask = df_wards['spawned_time']"
   ]
  },
  {
   "cell_type": "code",
   "execution_count": null,
   "metadata": {},
   "outputs": [],
   "source": [
    "df_wards"
   ]
  },
  {
   "cell_type": "code",
   "execution_count": null,
   "metadata": {},
   "outputs": [],
   "source": []
  }
 ],
 "metadata": {
  "kernelspec": {
   "display_name": "Python 3",
   "language": "python",
   "name": "python3"
  },
  "language_info": {
   "codemirror_mode": {
    "name": "ipython",
    "version": 3
   },
   "file_extension": ".py",
   "mimetype": "text/x-python",
   "name": "python",
   "nbconvert_exporter": "python",
   "pygments_lexer": "ipython3",
   "version": "3.11.4"
  }
 },
 "nbformat": 4,
 "nbformat_minor": 2
}
